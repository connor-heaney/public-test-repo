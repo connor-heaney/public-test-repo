{
  "metadata": {
    "kernelspec": {
      "name": "python",
      "display_name": "Python (Pyodide)",
      "language": "python"
    },
    "language_info": {
      "codemirror_mode": {
        "name": "python",
        "version": 3
      },
      "file_extension": ".py",
      "mimetype": "text/x-python",
      "name": "python",
      "nbconvert_exporter": "python",
      "pygments_lexer": "ipython3",
      "version": "3.8"
    }
  },
  "nbformat_minor": 5,
  "nbformat": 4,
  "cells": [
    {
      "id": "2168fc63-c693-445a-87a6-168e8f9b49ad",
      "cell_type": "markdown",
      "source": "# Data Science Tools & Ecosystem ",
      "metadata": {}
    },
    {
      "id": "be274450-7de9-4f3d-ad61-0d967d2d62c0",
      "cell_type": "markdown",
      "source": "In this note, Data Science Tools and Ecosystem are summarized.",
      "metadata": {}
    },
    {
      "id": "613cb478-002e-4de3-9977-7fac44fc249c",
      "cell_type": "markdown",
      "source": "**Objectives:**\n- List popular languages for Data Science \n- List commonly used libraries in Data Science \n- Create a table with Data Science Tools\n- Compose basic arithmetic",
      "metadata": {}
    },
    {
      "id": "5a1904a6-23d7-46c6-b4e8-d51e97924fb1",
      "cell_type": "markdown",
      "source": "Some of the popular languages that Data Scientists use are:\n1. R\n2. Julia\n3. Python",
      "metadata": {}
    },
    {
      "id": "abe8d761-02fe-4fed-b114-d4c513022f5f",
      "cell_type": "markdown",
      "source": "Some of the commonly used libraries used by Data Scientists include:\n1. Matplotlib\n2. NumPy\n3. Pandas\n4. Seaborn",
      "metadata": {}
    },
    {
      "id": "3f715599-31dc-4429-880a-3525dd1e6200",
      "cell_type": "markdown",
      "source": "|Data Science Tools|\n|---------|\n|JupyterLab|\n|RStudio|\n|Spyder|",
      "metadata": {}
    },
    {
      "id": "598c91b5-9119-4036-9ad1-759750b71324",
      "cell_type": "markdown",
      "source": "### Below are a few examples of evaluating arithmetic expressions in Python",
      "metadata": {}
    },
    {
      "id": "cd5a6094-4766-4567-b1d9-d2daef7a7659",
      "cell_type": "code",
      "source": "# This is simple arithmetic expression to multiply then add integers\n(3*4)+5",
      "metadata": {
        "trusted": true
      },
      "outputs": [
        {
          "execution_count": 1,
          "output_type": "execute_result",
          "data": {
            "text/plain": "17"
          },
          "metadata": {}
        }
      ],
      "execution_count": 1
    },
    {
      "id": "1e05bb09-5907-4f47-b35b-180e9f027782",
      "cell_type": "code",
      "source": "# This will convert 200 minutes to hours by dividing by 60\n200 / 60",
      "metadata": {
        "trusted": true
      },
      "outputs": [
        {
          "execution_count": 2,
          "output_type": "execute_result",
          "data": {
            "text/plain": "3.3333333333333335"
          },
          "metadata": {}
        }
      ],
      "execution_count": 2
    },
    {
      "id": "c98b3a08-52c9-4d2c-8636-4d316d6b8657",
      "cell_type": "markdown",
      "source": "## Author\nConnor",
      "metadata": {}
    }
  ]
}